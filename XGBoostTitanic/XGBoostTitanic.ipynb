{
 "cells": [
  {
   "cell_type": "markdown",
   "id": "36a38b58-96d1-470b-a267-522c32569bb0",
   "metadata": {},
   "source": [
    "# Pipeline"
   ]
  },
  {
   "cell_type": "code",
   "execution_count": null,
   "id": "afe8b5c4-de25-4576-905f-bd3923d9f910",
   "metadata": {},
   "outputs": [],
   "source": [
    "from sklearn.compose import ColumnTransformer\n",
    "from sklearn2pmml.decoration import CategoricalDomain, ContinuousDomain\n",
    "from sklearn2pmml.pipeline import PMMLPipeline\n",
    "from xgboost import XGBClassifier\n",
    "\n",
    "import joblib\n",
    "import numpy\n",
    "import seaborn\n",
    "\n",
    "df = seaborn.load_dataset(\"titanic\")\n",
    "\n",
    "continuous_cols = [\"age\", \"fare\", \"parch\", \"sibsp\"]\n",
    "categorical_cols = [\"embarked\", \"pclass\", \"sex\", \"deck\"]\n",
    "\n",
    "X = df[continuous_cols + categorical_cols]\n",
    "y = df[\"survived\"]\n",
    "\n",
    "transformer = ColumnTransformer(\n",
    "    [(continuous_col, ContinuousDomain(dtype = numpy.float32), [continuous_col]) for continuous_col in continuous_cols] +\n",
    "    [(categorical_col, CategoricalDomain(dtype = \"category\"), [categorical_col]) for categorical_col in categorical_cols]\n",
    ")\n",
    "transformer.set_output(transform = \"pandas\")\n",
    "\n",
    "classifier = XGBClassifier(enable_categorical = True, random_state = 42)\n",
    "\n",
    "pipeline = PMMLPipeline([\n",
    "    (\"transformer\", transformer),\n",
    "    (\"classifier\", classifier)\n",
    "])\n",
    "pipeline.fit(X, y)\n",
    "\n",
    "joblib.dump(pipeline, \"resources/XGBostTitanic.pkl\")"
   ]
  },
  {
   "cell_type": "markdown",
   "id": "83aeb5d4-a258-4910-8521-ed4cb9246a7f",
   "metadata": {},
   "source": [
    "# Dataset"
   ]
  },
  {
   "cell_type": "code",
   "execution_count": null,
   "id": "9d898cb1-27e7-4dd4-9b79-3c07447e555e",
   "metadata": {},
   "outputs": [],
   "source": [
    "X.to_excel(\"resources/Titanic.xlsx\", index = False)"
   ]
  },
  {
   "cell_type": "markdown",
   "id": "c508ce3a-bcfe-410c-bd86-bf4ca85f4ad5",
   "metadata": {},
   "source": [
    "# PMML"
   ]
  },
  {
   "cell_type": "code",
   "execution_count": null,
   "id": "b09dc9d9-64e9-4d58-962c-cdf020aa8178",
   "metadata": {},
   "outputs": [],
   "source": [
    "from sklearn2pmml import sklearn2pmml\n",
    "\n",
    "sklearn2pmml(pipeline, \"resources/XGBoostTitanic.pmml\")"
   ]
  }
 ],
 "metadata": {
  "kernelspec": {
   "display_name": "Python 3 (ipykernel)",
   "language": "python",
   "name": "python3"
  },
  "language_info": {
   "codemirror_mode": {
    "name": "ipython",
    "version": 3
   },
   "file_extension": ".py",
   "mimetype": "text/x-python",
   "name": "python",
   "nbconvert_exporter": "python",
   "pygments_lexer": "ipython3",
   "version": "3.13.3"
  }
 },
 "nbformat": 4,
 "nbformat_minor": 5
}
