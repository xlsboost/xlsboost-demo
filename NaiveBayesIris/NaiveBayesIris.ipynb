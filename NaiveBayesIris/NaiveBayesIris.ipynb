{
 "cells": [
  {
   "cell_type": "markdown",
   "id": "215cea10-062a-4702-824e-65eb93297c7e",
   "metadata": {},
   "source": [
    "# Model"
   ]
  },
  {
   "cell_type": "code",
   "execution_count": null,
   "id": "13d1a6f1-f732-4e2c-b9ce-6dbded9e95fc",
   "metadata": {},
   "outputs": [],
   "source": [
    "library(\"e1071\")\n",
    "\n",
    "data(\"iris\")\n",
    "\n",
    "nb.iris = naiveBayes(Species ~ ., data = iris)\n",
    "saveRDS(nb.iris, \"resources/NaiveBayesIris.rds\")"
   ]
  },
  {
   "cell_type": "markdown",
   "id": "0adf9058-0301-4294-af58-c0e8e83c1c6e",
   "metadata": {},
   "source": [
    "# Dataset"
   ]
  },
  {
   "cell_type": "code",
   "execution_count": null,
   "id": "e7f535d3-49ef-4aab-b583-3f23af63bf13",
   "metadata": {},
   "outputs": [],
   "source": [
    "library(\"writexl\")\n",
    "\n",
    "iris_features = iris[, -5]\n",
    "write_xlsx(iris_features, \"resources/Iris.xlsx\")"
   ]
  },
  {
   "cell_type": "markdown",
   "id": "2d00e4bc-dd3c-4f75-be7c-e38df387c00a",
   "metadata": {},
   "source": [
    "# PMML"
   ]
  },
  {
   "cell_type": "code",
   "execution_count": null,
   "id": "59b0abe3-c079-4ca1-95cf-fb7533633937",
   "metadata": {},
   "outputs": [],
   "source": [
    "library(\"r2pmml\")\n",
    "\n",
    "r2pmml(nb.iris, \"resources/NaiveBayesIris.pmml\")"
   ]
  }
 ],
 "metadata": {
  "kernelspec": {
   "display_name": "R",
   "language": "R",
   "name": "ir"
  },
  "language_info": {
   "codemirror_mode": "r",
   "file_extension": ".r",
   "mimetype": "text/x-r-source",
   "name": "R",
   "pygments_lexer": "r",
   "version": "4.4.3"
  }
 },
 "nbformat": 4,
 "nbformat_minor": 5
}
